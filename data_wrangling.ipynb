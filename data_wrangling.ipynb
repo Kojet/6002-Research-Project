{
 "cells": [
  {
   "cell_type": "markdown",
   "id": "a3dd72e6",
   "metadata": {},
   "source": [
    "## 0. Import Required Packages"
   ]
  },
  {
   "cell_type": "code",
   "execution_count": 19,
   "id": "56e6f5ef",
   "metadata": {},
   "outputs": [],
   "source": [
    "import pandas as pd\n",
    "import numpy as np\n",
    "\n",
    "import warnings\n",
    "warnings.filterwarnings(\"ignore\")"
   ]
  },
  {
   "cell_type": "markdown",
   "id": "83d223cf",
   "metadata": {},
   "source": [
    "## 1. Data Wrangling"
   ]
  },
  {
   "cell_type": "code",
   "execution_count": 20,
   "id": "77ade383",
   "metadata": {},
   "outputs": [],
   "source": [
    "data = pd.read_csv('./research_dataset_2022.csv', parse_dates=True, index_col=0)\n",
    "# delete the rows before 1993-02-02\n",
    "#data.dropna(subset=['trans_spy_open'], inplace=True)\n",
    "returns = data[['trans_spy_open']]"
   ]
  },
  {
   "cell_type": "markdown",
   "id": "3e188954",
   "metadata": {},
   "source": [
    "### 1.1 Process variables referenced Hull and Qiao's research [2017]"
   ]
  },
  {
   "cell_type": "code",
   "execution_count": 21,
   "id": "db5993f8",
   "metadata": {},
   "outputs": [],
   "source": [
    "var = data[['DividendToPriceRatio', 'trans_PE_RATIO', 'PxToBook', 'CAPE', \n",
    "            'bbyield', 'BAA', 'AAA', 'US3M', 'US10YR', 'Consumption_new', \n",
    "            'Assets_new', 'Income_new', 'SIM', 'trans_VIX', 'garch', 'SI',\n",
    "            'IC', 'trans_BDIY', 'NOS', 'CPI', 'trans_spy_open', 'trans_SPGSCI']]\n",
    "rest_data = data.drop(columns=var.columns.tolist())"
   ]
  },
  {
   "cell_type": "code",
   "execution_count": 22,
   "id": "baf71d9e",
   "metadata": {},
   "outputs": [],
   "source": [
    "var['DEF'] = var['BAA'] - var['AAA']\n",
    "var['TERM'] = var['US10YR'] - var['US3M']\n",
    "#var['CAY'] = \n",
    "var['VRP'] = var['trans_VIX'] - var['garch']\n",
    "var['PCR'] = var['trans_spy_open'] / var['trans_SPGSCI']\n",
    "# the current price versus the past 10 month simple moving average.\n",
    "var['MA'] = returns['trans_spy_open'] / returns['trans_spy_open'].rolling(217).mean()\n",
    "# drop the component variables\n",
    "var = var.drop(columns=['BAA', 'AAA', 'US10YR', 'US3M', 'trans_VIX', 'garch', \n",
    "                        'trans_spy_open', 'trans_SPGSCI'])\n",
    "var.rename(columns = {'DividendToPriceRatio':'DP', 'trans_PE_RATIO':'PE',\n",
    "                      'PxToBook':'BM', 'bbyield':'BY', 'trans_BDIY':'BDI'}, inplace = True)"
   ]
  },
  {
   "cell_type": "markdown",
   "id": "468a612b",
   "metadata": {},
   "source": [
    "### 1.3 Detect the correlation"
   ]
  },
  {
   "cell_type": "code",
   "execution_count": 25,
   "id": "04ade53c",
   "metadata": {},
   "outputs": [
    {
     "data": {
      "text/plain": [
       "DP                 0.346485\n",
       "PE                -0.170715\n",
       "BM                -0.121418\n",
       "CAPE              -0.227073\n",
       "BY                 0.217709\n",
       "Consumption_new    0.182279\n",
       "Assets_new         0.191662\n",
       "Income_new         0.116433\n",
       "SIM               -0.099233\n",
       "SI                -0.254976\n",
       "IC                 0.102689\n",
       "BDI               -0.053580\n",
       "NOS                0.110443\n",
       "CPI                0.136086\n",
       "DEF                0.280805\n",
       "TERM              -0.179046\n",
       "VRP                0.920611\n",
       "PCR                0.019238\n",
       "MA                -0.017520\n",
       "Name: trans_VIX3M, dtype: float64"
      ]
     },
     "execution_count": 25,
     "metadata": {},
     "output_type": "execute_result"
    }
   ],
   "source": [
    "var['trans_VIX3M'] = rest_data['trans_VIX3M']\n",
    "var[var.columns].corr()['trans_VIX3M'][:-1]"
   ]
  },
  {
   "cell_type": "code",
   "execution_count": 48,
   "id": "e25a20ff",
   "metadata": {},
   "outputs": [],
   "source": [
    "rest_corr = rest_data[rest_data.columns].corr()['trans_VIX3M']\n",
    "rest_corr = rest_corr.drop(['trans_VIX3M', 'trans_VIX6M', 'trans_VIX9D', 'trans_VIX1Y'])"
   ]
  },
  {
   "cell_type": "code",
   "execution_count": 51,
   "id": "3703f0c0",
   "metadata": {},
   "outputs": [
    {
     "data": {
      "text/plain": [
       "trans_PX_OPEN                       -0.419430\n",
       "trans_PX_HIGH                       -0.406368\n",
       "trans_PX_LOW                        -0.456390\n",
       "trans_PX_LAST                       -0.442270\n",
       "trans_PCUSEQTR                       0.367228\n",
       "trans_BFCIUS                        -0.817335\n",
       "advDecl                             -0.117933\n",
       "FedFunds                             0.106933\n",
       "trans_NYSEADV                       -0.171601\n",
       "CBOE_leadIC                          0.299853\n",
       "BER                                 -0.305306\n",
       "vintageCPI                           0.136813\n",
       "TRAIL_12M_EPS_BEF_XO_ITEM.vintage    0.137306\n",
       "realVol                              0.640358\n",
       "loan_corrected                       0.168686\n",
       "VVIX                                 0.489550\n",
       "NAPMNEWO                            -0.247240\n",
       "NAPMPMI                             -0.167928\n",
       "delinquency                         -0.179814\n",
       "ltime                                0.193568\n",
       "trans_TYVIX                          0.579219\n",
       "trans_IAP                            0.885583\n",
       "trans_EPUCNUSD                       0.280036\n",
       "del.corona                          -0.178907\n",
       "hulbert.pred                         0.140709\n",
       "rv_5on                               0.640190\n",
       "sentiment1                          -0.491106\n",
       "etf.sentiment                       -0.198134\n",
       "sentiment3                          -0.527977\n",
       "median_earnings                      0.287275\n",
       "diff_earnings_yield                  0.141721\n",
       "MICH                                -0.140355\n",
       "PCT_MEMBERS_WITH_NEW_52W_HIGHS      -0.430789\n",
       "PCT_MEMBERS_WITH_NEW_52_WK_LOWS      0.515047\n",
       "htaassi                              0.209286\n",
       "CATY                                -0.288831\n",
       "sentiment4                          -0.400140\n",
       "sentiment5                           0.287284\n",
       "sentiment6                          -0.256414\n",
       "sentiment7                          -0.284964\n",
       "princomp_SentDir                    -0.365231\n",
       "IND_PROD                             0.224172\n",
       "vs3                                  0.334598\n",
       "fed_cor                              0.347507\n",
       "vix_cor                              0.457238\n",
       "trans_IEF                            0.329496\n",
       "trans_SKEW                          -0.260996\n",
       "trans_SPVXMP                         0.694285\n",
       "trans_SPVXSP                         0.634130\n",
       "trans_VXO                            0.907011\n",
       "trans_VXD                            0.908484\n",
       "trans_VXN                            0.852068\n",
       "trans_RVX                            0.867001\n",
       "ETS                                 -0.314013\n",
       "sentiment8                          -0.496058\n",
       "Name: trans_VIX3M, dtype: float64"
      ]
     },
     "execution_count": 51,
     "metadata": {},
     "output_type": "execute_result"
    }
   ],
   "source": [
    "rest_corr[abs(rest_corr) > 0.1]"
   ]
  }
 ],
 "metadata": {
  "kernelspec": {
   "display_name": "Python 3",
   "language": "python",
   "name": "python3"
  },
  "language_info": {
   "codemirror_mode": {
    "name": "ipython",
    "version": 3
   },
   "file_extension": ".py",
   "mimetype": "text/x-python",
   "name": "python",
   "nbconvert_exporter": "python",
   "pygments_lexer": "ipython3",
   "version": "3.8.8"
  }
 },
 "nbformat": 4,
 "nbformat_minor": 5
}
