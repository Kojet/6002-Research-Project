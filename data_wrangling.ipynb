{
 "cells": [
  {
   "cell_type": "markdown",
   "id": "e12e5328",
   "metadata": {},
   "source": [
    "## 0. Import Required Packages"
   ]
  },
  {
   "cell_type": "code",
   "execution_count": 153,
   "id": "16283497",
   "metadata": {},
   "outputs": [],
   "source": [
    "import pandas as pd\n",
    "import numpy as np\n",
    "\n",
    "import warnings\n",
    "warnings.filterwarnings(\"ignore\")"
   ]
  },
  {
   "cell_type": "markdown",
   "id": "f3144392",
   "metadata": {},
   "source": [
    "## 1. Data Wrangling"
   ]
  },
  {
   "cell_type": "code",
   "execution_count": 145,
   "id": "77ade383",
   "metadata": {},
   "outputs": [],
   "source": [
    "data = pd.read_csv('./research_dataset_2022.csv', parse_dates=True, index_col=0)\n",
    "# delete the rows before 1993-02-02\n",
    "data.dropna(subset=['trans_spy_open'], inplace=True)\n",
    "returns = data[['trans_spy_open']]"
   ]
  },
  {
   "cell_type": "markdown",
   "id": "bce16c0e",
   "metadata": {},
   "source": [
    "### 1.1 Process variables referenced Hull and Qiao's research [2017]"
   ]
  },
  {
   "cell_type": "code",
   "execution_count": 86,
   "id": "1e04cc14",
   "metadata": {},
   "outputs": [],
   "source": [
    "var = data[['DividendToPriceRatio', 'trans_PE_RATIO', 'PxToBook', 'CAPE', \n",
    "            'bbyield', 'BAA', 'AAA', 'US3M', 'US10YR', 'Consumption_new', \n",
    "            'Assets_new', 'Income_new', 'SIM', 'trans_VIX', 'garch', 'SI',\n",
    "            'IC', 'trans_BDIY', 'NOS', 'CPI', 'trans_spy_open', 'trans_SPGSCI']]\n",
    "rest_data = data.drop(columns=var.columns.tolist())"
   ]
  },
  {
   "cell_type": "code",
   "execution_count": 87,
   "id": "102dd24f",
   "metadata": {},
   "outputs": [],
   "source": [
    "var['DEF'] = var['BAA'] - var['AAA']\n",
    "var['TERM'] = var['US10YR'] - var['US3M']\n",
    "#var['CAY'] = \n",
    "var['VRP'] = var['trans_VIX'] - var['garch']\n",
    "var['PCR'] = var['trans_spy_open'] / var['trans_SPGSCI']\n",
    "# drop the component variables\n",
    "var = var.drop(columns=['BAA', 'AAA', 'US10YR', 'US3M', 'trans_VIX', 'garch', \n",
    "                        'trans_spy_open', 'trans_SPGSCI'])\n",
    "var.rename(columns = {'DividendToPriceRatio':'DP', 'trans_PE_RATIO':'PE',\n",
    "                      'PxToBook':'BM', 'bbyield':'BY', 'trans_BDIY':'BDI'}, inplace = True)"
   ]
  },
  {
   "cell_type": "markdown",
   "id": "7693043c",
   "metadata": {},
   "source": [
    "### 1.2 Calculate the response variable"
   ]
  },
  {
   "cell_type": "code",
   "execution_count": 158,
   "id": "bba27f73",
   "metadata": {},
   "outputs": [],
   "source": [
    "def calculate_returns(ndays):\n",
    "    returns[str(ndays)+'return'] = np.nan\n",
    "    for i in range(len(returns)):\n",
    "        if i-ndays >= 0:\n",
    "            present = returns.iloc[i]['trans_spy_open']\n",
    "            past = returns.iloc[i-ndays]['trans_spy_open']\n",
    "            returns[str(ndays)+'return'].iloc[i] = (present - past) / past\n",
    "        else:\n",
    "            pass"
   ]
  },
  {
   "cell_type": "code",
   "execution_count": 159,
   "id": "2e8ff8ec",
   "metadata": {},
   "outputs": [],
   "source": [
    "# 1-month return\n",
    "calculate_returns(22)\n",
    "# 3-month return\n",
    "calculate_returns(65)\n",
    "# 6-month return\n",
    "calculate_returns(130)\n",
    "# 1-year return\n",
    "calculate_returns(250)"
   ]
  },
  {
   "cell_type": "code",
   "execution_count": 160,
   "id": "8c0a000d",
   "metadata": {},
   "outputs": [
    {
     "data": {
      "text/plain": [
       "trans_spy_open       0\n",
       "22return            22\n",
       "65return            65\n",
       "130return          130\n",
       "250return          250\n",
       "a                 7309\n",
       "dtype: int64"
      ]
     },
     "execution_count": 160,
     "metadata": {},
     "output_type": "execute_result"
    }
   ],
   "source": [
    "returns.isna().sum()"
   ]
  }
 ],
 "metadata": {
  "kernelspec": {
   "display_name": "Python 3",
   "language": "python",
   "name": "python3"
  },
  "language_info": {
   "codemirror_mode": {
    "name": "ipython",
    "version": 3
   },
   "file_extension": ".py",
   "mimetype": "text/x-python",
   "name": "python",
   "nbconvert_exporter": "python",
   "pygments_lexer": "ipython3",
   "version": "3.8.8"
  }
 },
 "nbformat": 4,
 "nbformat_minor": 5
}
